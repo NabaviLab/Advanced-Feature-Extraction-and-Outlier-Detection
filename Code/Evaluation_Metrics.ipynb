{
  "nbformat": 4,
  "nbformat_minor": 0,
  "metadata": {
    "colab": {
      "provenance": []
    },
    "kernelspec": {
      "name": "python3",
      "display_name": "Python 3"
    },
    "language_info": {
      "name": "python"
    }
  },
  "cells": [
    {
      "cell_type": "code",
      "source": [
        "!pip install imagecodecs\n",
        "!pip install phasepack\n",
        "!pip install itk"
      ],
      "metadata": {
        "id": "TxHQi-ODEpQg"
      },
      "execution_count": null,
      "outputs": []
    },
    {
      "cell_type": "code",
      "source": [
        "from skimage import io\n",
        "import numpy as np\n",
        "from sklearn.metrics import mutual_info_score\n",
        "from scipy.ndimage.filters import gaussian_gradient_magnitude\n",
        "from skimage.metrics import normalized_root_mse as ncc, structural_similarity as ssim\n",
        "from phasepack import phasecongmono"
      ],
      "metadata": {
        "id": "yGG8-u3UERyC"
      },
      "execution_count": null,
      "outputs": []
    },
    {
      "cell_type": "code",
      "execution_count": null,
      "metadata": {
        "id": "nGGwIJjKEGRY"
      },
      "outputs": [],
      "source": [
        "def mutual_info(image1, image2, bins=256):\n",
        "    hist_2d, _, _ = np.histogram2d(image1.ravel(), image2.ravel(), bins=bins)\n",
        "    return mutual_info_score(None, None, contingency=hist_2d)\n",
        "\n",
        "\n",
        "def gradient_similarity(image1, image2, sigma=1.0):\n",
        "    grad1 = gaussian_gradient_magnitude(image1, sigma=sigma)\n",
        "    grad2 = gaussian_gradient_magnitude(image2, sigma=sigma)\n",
        "    return ssim(grad1, grad2, data_range=grad1.max() - grad1.min())\n",
        "\n",
        "def phase_congruency_similarity(image1, image2):\n",
        "    pc1, _, _, _ = phasecongmono(image1)\n",
        "    pc2, _, _, _ = phasecongmono(image2)\n",
        "    return ssim(pc1, pc2, data_range=pc1.max() - pc1.min())\n",
        "\n",
        "# Read the images\n",
        "image1 = io.imread(\"First Image\", as_gray=True)\n",
        "image2 = io.imread('Second Image', as_gray=True)\n",
        "\n",
        "# Compute the metrics\n",
        "mi_similarity = mutual_info(image1, image2)\n",
        "gradient_similarity = gradient_similarity(image1, image2)\n",
        "phase_congruency_similarity = phase_congruency_similarity(image1, image2)\n",
        "\n",
        "# Print Results\n",
        "print(\"MI:\", mi_similarity)\n",
        "print(\"Gradient-based metric:\", gradient_similarity)\n",
        "print(\"Phase Congruency-based metric:\", phase_congruency_similarity)"
      ]
    }
  ]
}